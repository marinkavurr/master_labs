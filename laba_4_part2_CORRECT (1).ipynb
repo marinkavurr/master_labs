{
  "nbformat": 4,
  "nbformat_minor": 0,
  "metadata": {
    "colab": {
      "name": "laba_4_part2_CORRECT.ipynb",
      "provenance": []
    },
    "kernelspec": {
      "name": "python3",
      "display_name": "Python 3"
    },
    "accelerator": "GPU"
  },
  "cells": [
    {
      "cell_type": "code",
      "metadata": {
        "id": "Sfc5OemY3ho6",
        "outputId": "e11d7e30-bd3d-4130-92a9-3956e505bb8d",
        "colab": {
          "base_uri": "https://localhost:8080/"
        }
      },
      "source": [
        "from __future__ import print_function\n",
        "import numpy as np\n",
        "from keras.preprocessing import sequence\n",
        "from keras.models import Sequential\n",
        "from keras.layers import Dense, Embedding, Dropout\n",
        "from keras.layers import LSTM\n",
        "from keras.datasets import imdb\n",
        "\n",
        "max_features = 10000\n",
        "maxlen = 80  \n",
        "batch_size = 32\n",
        "\n",
        "print('Loading data...')\n",
        "#(x_train, y_train), (x_test, y_test) = imdb.load_data(num_words=max_features)\n",
        "(training_data, training_targets), (testing_data, testing_targets) = imdb.load_data(num_words=10000)\n",
        "data = np.concatenate((training_data, testing_data), axis=0)\n",
        "targets = np.concatenate((training_targets, testing_targets), axis=0)\n",
        "x_test = data[:10000]\n",
        "y_test = targets[:10000]\n",
        "x_train = data[10000:]\n",
        "y_train = targets[10000:]\n",
        "print(len(x_train), 'train sequences')\n",
        "print(len(x_test), 'test sequences')\n",
        "\n",
        "print('Pad sequences (samples x time)')\n",
        "x_train = sequence.pad_sequences(x_train, maxlen=maxlen)\n",
        "x_test = sequence.pad_sequences(x_test, maxlen=maxlen)\n",
        "print('x_train shape:', x_train.shape)\n",
        "print('x_test shape:', x_test.shape)\n",
        "# with LSTM\n",
        "print('Build model...')\n",
        "model = Sequential()\n",
        "model.add(Embedding(max_features, 128))\n",
        "model.add(LSTM(128, dropout=0.2, recurrent_dropout=0.2))\n",
        "model.add(Dense(50, activation = \"relu\"))\n",
        "model.add(Dropout(0.3, noise_shape=None, seed=None))\n",
        "model.add(Dropout(0.2, noise_shape=None, seed=None))\n",
        "model.add(Dense(50, activation = \"relu\"))\n",
        "model.add(Dense(1, activation='sigmoid'))\n",
        "\n",
        "\n",
        "\n",
        "\n",
        "model.compile(loss='binary_crossentropy',\n",
        "              optimizer='adam',\n",
        "              metrics=['accuracy'])\n",
        "\n",
        "print('Train...')\n",
        "model.fit(x_train, y_train,\n",
        "          batch_size=batch_size,\n",
        "          epochs=2,\n",
        "          validation_data=(x_test, y_test))\n",
        "score, acc = model.evaluate(x_test, y_test,\n",
        "                            batch_size=batch_size)\n",
        "print('Test score:', score)\n",
        "print('Test accuracy:', acc)"
      ],
      "execution_count": 4,
      "outputs": [
        {
          "output_type": "stream",
          "text": [
            "Loading data...\n",
            "40000 train sequences\n",
            "10000 test sequences\n",
            "Pad sequences (samples x time)\n",
            "x_train shape: (40000, 80)\n",
            "x_test shape: (10000, 80)\n",
            "Build model...\n",
            "WARNING:tensorflow:Layer lstm_2 will not use cuDNN kernel since it doesn't meet the cuDNN kernel criteria. It will use generic GPU kernel as fallback when running on GPU\n",
            "Train...\n",
            "Epoch 1/2\n",
            "1250/1250 [==============================] - 172s 138ms/step - loss: 0.4229 - accuracy: 0.8025 - val_loss: 0.3430 - val_accuracy: 0.8518\n",
            "Epoch 2/2\n",
            "1250/1250 [==============================] - 169s 135ms/step - loss: 0.2814 - accuracy: 0.8857 - val_loss: 0.3478 - val_accuracy: 0.8522\n",
            "313/313 [==============================] - 7s 21ms/step - loss: 0.3478 - accuracy: 0.8522\n",
            "Test score: 0.3478083908557892\n",
            "Test accuracy: 0.8521999716758728\n"
          ],
          "name": "stdout"
        }
      ]
    },
    {
      "cell_type": "code",
      "metadata": {
        "id": "yRkmghd54IYf"
      },
      "source": [
        ""
      ],
      "execution_count": null,
      "outputs": []
    }
  ]
}